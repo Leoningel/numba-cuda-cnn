{
 "cells": [
  {
   "cell_type": "code",
   "execution_count": 1,
   "metadata": {
    "colab": {
     "base_uri": "https://localhost:8080/"
    },
    "id": "-Do71WAxqOLW",
    "outputId": "4ef29c18-ea13-4f84-c2b8-de0b91dc585c"
   },
   "outputs": [
    {
     "name": "stdout",
     "output_type": "stream",
     "text": [
      "Sun Jan 31 03:21:08 2021       \n",
      "+-----------------------------------------------------------------------------+\n",
      "| NVIDIA-SMI 456.81       Driver Version: 456.81       CUDA Version: 11.1     |\n",
      "|-------------------------------+----------------------+----------------------+\n",
      "| GPU  Name            TCC/WDDM | Bus-Id        Disp.A | Volatile Uncorr. ECC |\n",
      "| Fan  Temp  Perf  Pwr:Usage/Cap|         Memory-Usage | GPU-Util  Compute M. |\n",
      "|                               |                      |               MIG M. |\n",
      "|===============================+======================+======================|\n",
      "|   0  GeForce GTX 165... WDDM  | 00000000:01:00.0 Off |                  N/A |\n",
      "| N/A   61C    P8     3W /  N/A |    538MiB /  4096MiB |      0%      Default |\n",
      "|                               |                      |                  N/A |\n",
      "+-------------------------------+----------------------+----------------------+\n",
      "                                                                               \n",
      "+-----------------------------------------------------------------------------+\n",
      "| Processes:                                                                  |\n",
      "|  GPU   GI   CI        PID   Type   Process name                  GPU Memory |\n",
      "|        ID   ID                                                   Usage      |\n",
      "|=============================================================================|\n",
      "|    0   N/A  N/A     16900      C   ...oao_\\Anaconda3\\python.exe    N/A      |\n",
      "|    0   N/A  N/A     27568      C   ...oao_\\Anaconda3\\python.exe    N/A      |\n",
      "+-----------------------------------------------------------------------------+\n"
     ]
    }
   ],
   "source": [
    "!nvidia-smi"
   ]
  },
  {
   "cell_type": "code",
   "execution_count": 2,
   "metadata": {
    "id": "-bLW7dpPqzkE"
   },
   "outputs": [],
   "source": [
    "import numpy as np\n",
    "from numba import cuda, float32\n",
    "import utils.utils as u\n",
    "import os\n",
    "import random\n",
    "import math\n",
    "\n",
    "import cnn.cnn as cnn\n",
    "import cnn.cnn_sequential as cnn_s\n",
    "import cnn.cnn_parallel_cpu as cnn_p_cpu\n",
    "import cnn.cnn_parallel_cuda as cnn_p_gpu\n",
    "\n",
    "import pandas as pd\n"
   ]
  },
  {
   "cell_type": "code",
   "execution_count": 3,
   "metadata": {},
   "outputs": [],
   "source": [
    "SEED = 0\n",
    "np.random.seed(SEED)\n",
    "random.seed(SEED)"
   ]
  },
  {
   "cell_type": "code",
   "execution_count": 4,
   "metadata": {
    "colab": {
     "base_uri": "https://localhost:8080/"
    },
    "id": "YWNX70w8rLtw",
    "outputId": "59b2eb77-de65-490b-f68e-6c55b463d33e"
   },
   "outputs": [
    {
     "name": "stdout",
     "output_type": "stream",
     "text": [
      "Extracting mnist\\train-images-idx3-ubyte.gz\n",
      "Extracting mnist\\train-labels-idx1-ubyte.gz\n",
      "Extracting mnist\\t10k-images-idx3-ubyte.gz\n",
      "Extracting mnist\\t10k-labels-idx1-ubyte.gz\n"
     ]
    }
   ],
   "source": [
    "train_data,train_label, test_data, test_label = u.load_data()"
   ]
  },
  {
   "cell_type": "code",
   "execution_count": 5,
   "metadata": {},
   "outputs": [
    {
     "name": "stdout",
     "output_type": "stream",
     "text": [
      "-------\n",
      "filters: 32; bs: 100\n",
      "mode:parallel cpu; duration:41.853899002075195; last_acc: 0.84; mean_epoch: 0.418509316444397\n",
      "mode:sequential; duration:32.25034713745117; last_acc: 0.83; mean_epoch: 0.3224334788322449\n",
      "mode:gpu; duration:30.67756223678589; last_acc: 0.87; mean_epoch: 0.30675562381744387\n",
      "-------\n",
      "filters: 32; bs: 250\n",
      "mode:parallel cpu; duration:56.516010761260986; last_acc: 0.88; mean_epoch: 0.5651100826263428\n",
      "mode:sequential; duration:62.4572491645813; last_acc: 0.904; mean_epoch: 0.6244624662399292\n",
      "mode:gpu; duration:34.00773310661316; last_acc: 0.848; mean_epoch: 0.3400673294067383\n",
      "-------\n",
      "filters: 32; bs: 500\n",
      "mode:parallel cpu; duration:87.09855914115906; last_acc: 0.896; mean_epoch: 0.8709755921363831\n",
      "mode:sequential; duration:168.56968688964844; last_acc: 0.866; mean_epoch: 1.6855869674682618\n",
      "mode:gpu; duration:51.147387742996216; last_acc: 0.856; mean_epoch: 0.5114542269706726\n",
      "-------\n",
      "filters: 32; bs: 1000\n",
      "mode:parallel cpu; duration:233.2961015701294; last_acc: 0.893; mean_epoch: 2.33291170835495\n",
      "mode:sequential; duration:335.1207625865936; last_acc: 0.875; mean_epoch: 3.3510675692558287\n",
      "mode:gpu; duration:106.61080884933472; last_acc: 0.861; mean_epoch: 1.066078097820282\n",
      "-------\n",
      "filters: 64; bs: 100\n",
      "mode:parallel cpu; duration:59.6375527381897; last_acc: 0.85; mean_epoch: 0.596315884590149\n",
      "mode:sequential; duration:54.1709189414978; last_acc: 0.88; mean_epoch: 0.5415695452690125\n",
      "mode:gpu; duration:44.719032287597656; last_acc: 0.81; mean_epoch: 0.44715031862258914\n",
      "-------\n",
      "filters: 64; bs: 250\n",
      "mode:parallel cpu; duration:84.06354880332947; last_acc: 0.864; mean_epoch: 0.8405854988098145\n",
      "mode:sequential; duration:177.56883311271667; last_acc: 0.864; mean_epoch: 1.7755718517303467\n",
      "mode:gpu; duration:82.04110956192017; last_acc: 0.848; mean_epoch: 0.8203273701667786\n",
      "-------\n",
      "filters: 64; bs: 500\n",
      "mode:parallel cpu; duration:215.34393286705017; last_acc: 0.852; mean_epoch: 2.1533282947540284\n",
      "mode:sequential; duration:307.1440432071686; last_acc: 0.838; mean_epoch: 3.0713003516197204\n",
      "mode:gpu; duration:88.55323457717896; last_acc: 0.864; mean_epoch: 0.8854926943778991\n",
      "-------\n",
      "filters: 64; bs: 1000\n",
      "mode:parallel cpu; duration:448.7918469905853; last_acc: 0.894; mean_epoch: 4.487828195095062\n",
      "mode:sequential; duration:644.0878856182098; last_acc: 0.869; mean_epoch: 6.440729184150696\n",
      "mode:gpu; duration:220.51586937904358; last_acc: 0.88; mean_epoch: 2.2051090693473814\n",
      "-------\n",
      "filters: 128; bs: 100\n",
      "mode:parallel cpu; duration:77.91631007194519; last_acc: 0.88; mean_epoch: 0.7790730834007263\n",
      "mode:sequential; duration:92.8952066898346; last_acc: 0.82; mean_epoch: 0.9288420152664184\n",
      "mode:gpu; duration:76.91598200798035; last_acc: 0.86; mean_epoch: 0.7690847373008728\n",
      "-------\n",
      "filters: 128; bs: 250\n",
      "mode:parallel cpu; duration:242.66795992851257; last_acc: 0.896; mean_epoch: 2.426609592437744\n",
      "mode:sequential; duration:321.7191319465637; last_acc: 0.888; mean_epoch: 3.2170213580131533\n",
      "mode:gpu; duration:96.93918991088867; last_acc: 0.892; mean_epoch: 0.9693222522735596\n",
      "-------\n",
      "filters: 128; bs: 500\n",
      "mode:parallel cpu; duration:467.3605806827545; last_acc: 0.92; mean_epoch: 4.673535807132721\n",
      "mode:sequential; duration:657.6976282596588; last_acc: 0.904; mean_epoch: 6.576735980510712\n",
      "mode:gpu; duration:167.51442337036133; last_acc: 0.9; mean_epoch: 1.675064253807068\n",
      "-------\n",
      "filters: 128; bs: 1000\n",
      "mode:parallel cpu; duration:997.9224865436554; last_acc: 0.896; mean_epoch: 9.979124884605408\n",
      "mode:sequential; duration:1327.4435646533966; last_acc: 0.9; mean_epoch: 13.274185638427735\n",
      "mode:gpu; duration:440.04832434654236; last_acc: 0.874; mean_epoch: 4.400382907390594\n",
      "-------\n",
      "filters: 256; bs: 100\n",
      "mode:parallel cpu; duration:123.72623872756958; last_acc: 0.88; mean_epoch: 1.2371023845672608\n",
      "mode:sequential; duration:272.02876496315; last_acc: 0.71; mean_epoch: 2.720037651062012\n",
      "mode:gpu; duration:139.90873193740845; last_acc: 0.91; mean_epoch: 1.398947319984436\n",
      "-------\n",
      "filters: 256; bs: 250\n",
      "mode:parallel cpu; duration:461.8632333278656; last_acc: 0.868; mean_epoch: 4.618472325801849\n",
      "mode:sequential; duration:679.3076179027557; last_acc: 0.872; mean_epoch: 6.792815861701965\n",
      "mode:gpu; duration:180.8569827079773; last_acc: 0.892; mean_epoch: 1.808409821987152\n",
      "-------\n",
      "filters: 256; bs: 500\n",
      "mode:parallel cpu; duration:979.1941928863525; last_acc: 0.888; mean_epoch: 9.791761934757233\n",
      "mode:sequential; duration:1349.6157896518707; last_acc: 0.904; mean_epoch: 13.495858216285706\n",
      "mode:gpu; duration:335.33039259910583; last_acc: 0.878; mean_epoch: 3.3531639432907103\n",
      "-------\n",
      "filters: 256; bs: 1000\n",
      "mode:parallel cpu; duration:1967.9372022151947; last_acc: 0.89; mean_epoch: 19.679171948432924\n",
      "mode:sequential; duration:2839.1259014606476; last_acc: 0.881; mean_epoch: 28.39097864627838\n",
      "mode:gpu; duration:886.2298321723938; last_acc: 0.858; mean_epoch: 8.862108316421509\n"
     ]
    }
   ],
   "source": [
    "#time\n",
    "\n",
    "BATCH_SIZE_ = [100,250,500,1000]\n",
    "FILTERS_ = [32, 64,128,256]\n",
    "\n",
    "kernel_shape=(3, 3, 1)\n",
    "\n",
    "conv_stride=1\n",
    "pool_stride=2\n",
    "pool_size = (2,2)\n",
    "num_classes = 10\n",
    "\n",
    "epochs = 100\n",
    "lr = 0.1\n",
    "\n",
    "num_threads = 2\n",
    "\n",
    "data = (train_data,train_label, test_data, test_label)\n",
    "\n",
    "df_results = pd.DataFrame(columns=['training_mode','num_parameters', 'filters','batch_size', 'duration','accs','epochs_time','cuda_dt_time','model'])\n",
    "\n",
    "for filters in FILTERS_:\n",
    "    for batch_size in BATCH_SIZE_:\n",
    "        print('-------')\n",
    "        print('filters: {}; bs: {}'.format(filters,batch_size))\n",
    "       \n",
    "        duration, epochs_time, accs, num_parameters,model = cnn_p_cpu.train_parallel(data, batch_size, kernel_shape, filters, \\\n",
    "                                                                                     conv_stride,pool_stride, pool_size, num_classes,\\\n",
    "                                                                                     num_threads,lr,epochs)\n",
    "\n",
    "        df_results = df_results.append({'training_mode': 'parallel_cpu','num_parameters':num_parameters, 'filters': filters, \\\n",
    "                                        'batch_size':batch_size,'duration': duration,'epochs_time':epochs_time,'cuda_dt_time':np.nan,\\\n",
    "                                        'accs':accs,'model':model},ignore_index=True)\n",
    "\n",
    "        print('mode:{}; duration:{}; last_acc: {}; mean_epoch: {}'.format('parallel cpu',duration,accs[-1],np.mean(epochs_time)))\n",
    "        \n",
    "        \n",
    "        duration, epochs_time, accs, num_parameters, model = \\\n",
    "        cnn_s.train_sequential(data, batch_size, kernel_shape, filters, conv_stride,pool_stride, pool_size, num_classes,lr,epochs)\n",
    "\n",
    "        df_results = df_results.append({'training_mode': 'sequential','num_parameters':num_parameters, 'filters': filters, \\\n",
    "                                        'batch_size': batch_size, 'duration': duration,'epochs_time':epochs_time,'cuda_dt_time':np.nan,\\\n",
    "                                        'accs':accs,'model':model},ignore_index=True)\n",
    "        \n",
    "        print('mode:{}; duration:{}; last_acc: {}; mean_epoch: {}'.format('sequential',duration,accs[-1],np.mean(epochs_time)))\n",
    "         \n",
    "        duration, epochs_time,data_transfer_time, accs, num_parameters, model = \\\n",
    "        cnn_p_gpu.train_cuda(data, batch_size, kernel_shape, filters, conv_stride,pool_stride, pool_size, num_classes,lr,epochs)\n",
    "        df_results = df_results.append({'training_mode': 'parallel_cuda','num_parameters':num_parameters, 'filters': filters, \\\n",
    "                                        'batch_size':batch_size,'duration': duration,'epochs_time':epochs_time,'cuda_dt_time':data_transfer_time,\\\n",
    "                                        'accs':accs,'model':model},ignore_index=True)\n",
    "        \n",
    "        print('mode:{}; duration:{}; last_acc: {}; mean_epoch: {}'.format('gpu',duration,accs[-1],np.mean(epochs_time)))\n",
    "\n",
    "df_results.to_pickle('df_results.pkl')\n"
   ]
  }
 ],
 "metadata": {
  "accelerator": "GPU",
  "colab": {
   "collapsed_sections": [],
   "include_colab_link": true,
   "name": "ppc_project.ipynb",
   "provenance": []
  },
  "kernelspec": {
   "display_name": "env",
   "language": "python",
   "name": "env"
  },
  "language_info": {
   "codemirror_mode": {
    "name": "ipython",
    "version": 3
   },
   "file_extension": ".py",
   "mimetype": "text/x-python",
   "name": "python",
   "nbconvert_exporter": "python",
   "pygments_lexer": "ipython3",
   "version": "3.7.6"
  }
 },
 "nbformat": 4,
 "nbformat_minor": 4
}
