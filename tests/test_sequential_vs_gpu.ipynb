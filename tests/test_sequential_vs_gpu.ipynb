{
 "cells": [
  {
   "cell_type": "code",
   "execution_count": 1,
   "metadata": {},
   "outputs": [],
   "source": [
    "import os, sys; sys.path.append(os.path.dirname(os.path.realpath('./')))\n",
    "\n",
    "import numpy as np\n",
    "from numba import cuda, float32\n",
    "import utils.utils as u\n",
    "import random\n",
    "import math\n",
    "import time\n",
    "\n",
    "import cnn.cnn as cnn\n",
    "import cnn.cnn_sequential as cnn_s\n",
    "import cnn.cnn_parallel_cpu as cnn_p_cpu\n",
    "import cnn.cnn_parallel_cuda as cnn_p_gpu"
   ]
  },
  {
   "cell_type": "code",
   "execution_count": 2,
   "metadata": {},
   "outputs": [],
   "source": [
    "SEED = 42\n",
    "np.random.seed(SEED)\n",
    "random.seed(SEED)\n"
   ]
  },
  {
   "cell_type": "code",
   "execution_count": 3,
   "metadata": {},
   "outputs": [
    {
     "name": "stdout",
     "output_type": "stream",
     "text": [
      "Extracting ../mnist/train-images-idx3-ubyte.gz\n",
      "Extracting ../mnist/train-labels-idx1-ubyte.gz\n",
      "Extracting ../mnist/t10k-images-idx3-ubyte.gz\n",
      "Extracting ../mnist/t10k-labels-idx1-ubyte.gz\n"
     ]
    }
   ],
   "source": [
    "train_data,train_label, test_data, test_label = u.load_data('../mnist/')"
   ]
  },
  {
   "cell_type": "code",
   "execution_count": 4,
   "metadata": {},
   "outputs": [],
   "source": [
    "batch_size = 100\n",
    "\n",
    "filters=256 #(depth)\n",
    "kernel_shape=(3, 3, 1)\n",
    "conv_stride=1\n",
    "pool_stride=2\n",
    "pool_size = (2,2)\n",
    "num_classes = 10"
   ]
  },
  {
   "cell_type": "code",
   "execution_count": 5,
   "metadata": {},
   "outputs": [],
   "source": [
    "\n",
    "input_dims = (batch_size, train_data.shape[1],train_data.shape[2],train_data.shape[3])\n",
    "conv_w, conv_b, fully_w, fully_b = cnn.init_network(input_dims,kernel_shape, filters,conv_stride, pool_stride, pool_size,num_classes)\n",
    "conv_output_shape = (cnn.calculate_convolution_output_dims(input_dims, conv_w.shape,conv_stride))\n",
    "max_pool_output_shape = (cnn.calculate_maxpool_output_dims(conv_output_shape, pool_stride, pool_size))"
   ]
  },
  {
   "cell_type": "code",
   "execution_count": 6,
   "metadata": {},
   "outputs": [],
   "source": [
    "X, y = u.next_batch(train_data, train_label, batch_size)"
   ]
  },
  {
   "cell_type": "code",
   "execution_count": 7,
   "metadata": {},
   "outputs": [
    {
     "name": "stdout",
     "output_type": "stream",
     "text": [
      "Wall time: 3.37 s\n"
     ]
    }
   ],
   "source": [
    "%%time\n",
    "conv_output = np.zeros(shape=conv_output_shape, dtype=np.float32)\n",
    "max_pool_output = np.zeros(shape=max_pool_output_shape, dtype=np.float32)\n",
    "gradients = np.zeros(shape=(batch_size, num_classes), dtype=np.float32)\n",
    "mlp_output = np.zeros(shape=gradients.shape, dtype=np.float32)\n",
    "preds = np.zeros(shape=gradients.shape, dtype = np.float32)\n",
    "\n",
    "g_flatten = np.zeros(shape=(batch_size, max_pool_output_shape[1]*max_pool_output_shape[2]*max_pool_output_shape[3]), dtype=np.float32)\n",
    "g_max_pool_output = np.zeros(shape=conv_output_shape, dtype=np.float32)\n",
    "\n",
    "g_fully_w = np.zeros(shape=fully_w.shape, dtype=np.float32)\n",
    "g_fully_b = np.zeros(shape=fully_b.shape, dtype=np.float32)\n",
    "\n",
    "g_conv_w = np.zeros(shape=(batch_size,conv_w.shape[0], conv_w.shape[1],conv_w.shape[2],conv_w.shape[3]))\n",
    "g_conv_b = np.zeros(shape=(batch_size, conv_b.shape[0]), dtype=np.float32)\n",
    "\n",
    "#train data and labels\n",
    "Xg = cuda.to_device(X)\n",
    "yg = cuda.to_device(y)\n",
    "\n",
    "begin_dt = time.time()\n",
    "conv_outputg = cuda.to_device(conv_output)\n",
    "max_pool_outputg = cuda.to_device(max_pool_output)\n",
    "predsg = cuda.to_device(preds)\n",
    "gradientsg = cuda.to_device(gradients)\n",
    "mlp_outputg = cuda.to_device(mlp_output)\n",
    "\n",
    "g_max_pool_outputg = cuda.to_device(g_max_pool_output)\n",
    "g_flatten_g = cuda.to_device(g_flatten)\n",
    "\n",
    "g_fully_wg = cuda.to_device(g_fully_w)\n",
    "g_fully_bg = cuda.to_device(g_fully_b)\n",
    "g_conv_wg = cuda.to_device(g_conv_w)\n",
    "g_conv_bg = cuda.to_device(g_conv_b)\n",
    "\n",
    "conv_wg = cuda.to_device(conv_w)\n",
    "conv_bg = cuda.to_device(conv_b)\n",
    "fully_wg = cuda.to_device(fully_w)\n",
    "fully_wg_t = cuda.to_device(fully_w.T)\n",
    "fully_bg = cuda.to_device(fully_b)\n",
    "\n",
    "duration_to_device = time.time()-begin_dt\n",
    "\n",
    "#conv & max pooling forwarding\n",
    "thread_ct = cnn_p_gpu.get_thread_ct(batch_size)\n",
    "block_ct = (math.ceil(batch_size/thread_ct),1)\n",
    "cnn_p_gpu.conv_pool_forward[block_ct, thread_ct](Xg,conv_wg,conv_bg,conv_outputg,max_pool_outputg)\n",
    "\n",
    "#\n",
    "\n",
    "flatten = max_pool_outputg.copy_to_host()\n",
    "flatten = flatten.ravel().reshape(batch_size, -1)\n",
    "flatteng = cuda.to_device(flatten)\n",
    "\n",
    "thread_ct = (32, 32)\n",
    "block_ct = list(map(lambda x: int(math.ceil(float(x) / thread_ct[0])), [gradientsg.shape[0], gradientsg.shape[1]]))\n",
    "cnn_p_gpu.fully_gpu_forward[block_ct, thread_ct](flatteng, fully_wg, fully_bg, mlp_outputg,gradientsg,predsg, yg)\n",
    "\n",
    "thread_ct = (32, 32)\n",
    "block_ct = list(map(lambda x: int(math.ceil(float(x) / thread_ct[0])), [flatteng.shape[0], flatteng.shape[1]]))\n",
    "cnn_p_gpu.fully_gpu_backward[block_ct, thread_ct](flatteng,gradientsg,fully_wg_t,g_fully_wg,g_fully_bg, g_flatten_g)\n",
    "block_ct = list(map(lambda x: int(math.ceil(float(x) / thread_ct[0])), [fully_w.shape[0], fully_w.shape[1]]))\n",
    "cnn_p_gpu.fully_gpu_gradients[block_ct, thread_ct](flatteng,gradientsg,fully_wg_t,g_fully_wg,g_fully_bg, g_flatten_g)\n",
    "\n",
    "\n",
    "g_flatten_g = g_flatten_g.reshape(max_pool_output_shape)\n",
    "thread_ct = cnn_p_gpu.get_thread_ct(batch_size)\n",
    "block_ct = list(map(lambda x: int(math.ceil(float(x) / thread_ct)), [batch_size, 1]))\n",
    "cnn_p_gpu.conv_pool_backward[block_ct, thread_ct](Xg, conv_outputg, g_flatten_g, g_max_pool_outputg, g_conv_wg,g_conv_bg)\n",
    "\n",
    "\n",
    "X = Xg.copy_to_host()\n",
    "y = yg.copy_to_host()\n",
    "\n",
    "conv_output = conv_outputg.copy_to_host()\n",
    "max_pool_output = max_pool_outputg.copy_to_host()\n",
    "flatten = flatteng.copy_to_host()\n",
    "gradients = gradientsg.copy_to_host()\n",
    "preds = predsg.copy_to_host()\n",
    "\n",
    "g_max_pool_output = g_max_pool_outputg.copy_to_host()\n",
    "\n",
    "conv_w = conv_wg.copy_to_host()\n",
    "conv_b = conv_bg.copy_to_host()\n",
    "\n",
    "fully_w = fully_wg.copy_to_host()\n",
    "fully_b = fully_bg.copy_to_host()\n",
    "fully_w_t = fully_wg_t.copy_to_host()\n",
    "g_fully_w = g_fully_wg.copy_to_host()\n",
    "g_fully_b = g_fully_bg.copy_to_host()\n",
    "g_conv_w = g_conv_wg.copy_to_host()\n",
    "g_conv_b = g_conv_bg.copy_to_host()\n",
    "g_flatten = g_flatten_g.copy_to_host()\n",
    "\n",
    "\n",
    "g_conv_w = np.sum(g_conv_w, axis=0)\n",
    "g_conv_b = np.sum(g_conv_b, axis=0)/100\n"
   ]
  },
  {
   "cell_type": "code",
   "execution_count": 8,
   "metadata": {},
   "outputs": [
    {
     "name": "stdout",
     "output_type": "stream",
     "text": [
      "Wall time: 2.55 s\n"
     ]
    }
   ],
   "source": [
    "%%time\n",
    "preds3, cv_g_weights3, cv_g_biases3 , fully_g_weigths, fully_g_biases \\\n",
    "= cnn_s.train_one_epoch(X, y,conv_stride, pool_stride, conv_w, conv_b, fully_w, fully_b,pool_size)"
   ]
  },
  {
   "cell_type": "code",
   "execution_count": 9,
   "metadata": {},
   "outputs": [
    {
     "data": {
      "text/plain": [
       "(array([ 1.6328154e-06,  1.1575987e-06,  9.3043695e-04,  3.4151387e-06,\n",
       "         3.3658939e-08,  4.8716523e-05,  8.5657723e-07, -9.9527289e-04,\n",
       "         6.0881198e-06,  2.9355222e-06], dtype=float32),\n",
       " array([ 1.6328154e-06,  1.1575989e-06,  9.3043689e-04,  3.4151390e-06,\n",
       "         3.3658953e-08,  4.8716523e-05,  8.5657723e-07, -9.9527289e-04,\n",
       "         6.0881193e-06,  2.9355224e-06], dtype=float32))"
      ]
     },
     "execution_count": 9,
     "metadata": {},
     "output_type": "execute_result"
    }
   ],
   "source": [
    "i = random.randint(0,fully_g_weigths.shape[0]-1)\n",
    "fully_g_weigths[i], g_fully_w[i]"
   ]
  },
  {
   "cell_type": "code",
   "execution_count": 10,
   "metadata": {},
   "outputs": [
    {
     "data": {
      "text/plain": [
       "(array([ 0.40487653,  0.4708403 ,  0.49565065,  0.9162395 ,  0.03946549,\n",
       "        -0.3551053 , -0.12524453,  0.83795094, -0.6632446 , -0.38729584,\n",
       "        -0.14068127, -0.5997239 ,  0.80490476, -0.11941944,  0.25386384,\n",
       "         0.5557243 ,  0.15162201, -0.33094668, -0.6795557 ], dtype=float32),\n",
       " array([ 0.40487648,  0.47084021,  0.4956507 ,  0.91623946,  0.03946545,\n",
       "        -0.3551052 , -0.12524446,  0.83795111, -0.66324469, -0.38729581,\n",
       "        -0.14068118, -0.59972376,  0.80490478, -0.11941941,  0.25386387,\n",
       "         0.55572437,  0.15162206, -0.33094664, -0.6795557 ]))"
      ]
     },
     "execution_count": 10,
     "metadata": {},
     "output_type": "execute_result"
    }
   ],
   "source": [
    "g_conv_b[:19],cv_g_biases3[:19]"
   ]
  },
  {
   "cell_type": "code",
   "execution_count": 11,
   "metadata": {},
   "outputs": [
    {
     "name": "stdout",
     "output_type": "stream",
     "text": [
      "57\n"
     ]
    },
    {
     "data": {
      "text/plain": [
       "(None,)"
      ]
     },
     "execution_count": 11,
     "metadata": {},
     "output_type": "execute_result"
    },
    {
     "data": {
      "image/png": "[encoded data removed]",
      "text/plain": [
       "<Figure size 432x288 with 1 Axes>"
      ]
     },
     "metadata": {
      "needs_background": "light"
     },
     "output_type": "display_data"
    },
    {
     "data": {
      "image/png": "[encoded data removed]",
      "text/plain": [
       "<Figure size 432x288 with 1 Axes>"
      ]
     },
     "metadata": {
      "needs_background": "light"
     },
     "output_type": "display_data"
    }
   ],
   "source": [
    "filter = random.randint(0,filters-1)\n",
    "print(filter)\n",
    "u.plot_image(cv_g_weights3[:,:,0,filter]),\n",
    "u.plot_image(g_conv_w[:,:,0,filter]),"
   ]
  }
 ],
 "metadata": {
  "kernelspec": {
   "display_name": "Python 3",
   "language": "python",
   "name": "python3"
  },
  "language_info": {
   "codemirror_mode": {
    "name": "ipython",
    "version": 3
   },
   "file_extension": ".py",
   "mimetype": "text/x-python",
   "name": "python",
   "nbconvert_exporter": "python",
   "pygments_lexer": "ipython3",
   "version": "3.7.6"
  }
 },
 "nbformat": 4,
 "nbformat_minor": 4
}
