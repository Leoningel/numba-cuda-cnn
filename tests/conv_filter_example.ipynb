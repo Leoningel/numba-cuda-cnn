{
 "cells": [
  {
   "cell_type": "code",
   "execution_count": 222,
   "metadata": {},
   "outputs": [],
   "source": [
    "import numpy as np\n",
    "from numba import cuda, float32\n",
    "import utils as u\n",
    "import os\n",
    "import random\n",
    "import math"
   ]
  },
  {
   "cell_type": "code",
   "execution_count": 16,
   "metadata": {},
   "outputs": [],
   "source": [
    "SEED = 42\n",
    "np.random.seed(SEED)\n",
    "random.seed(42)"
   ]
  },
  {
   "cell_type": "markdown",
   "metadata": {},
   "source": [
    "## load mnist dataset"
   ]
  },
  {
   "cell_type": "markdown",
   "metadata": {},
   "source": [
    "Adapted from: https://github.com/WHDY/mnist_cnn_numba_cuda/blob/master/read_mnist.py"
   ]
  },
  {
   "cell_type": "code",
   "execution_count": 17,
   "metadata": {},
   "outputs": [
    {
     "name": "stdout",
     "output_type": "stream",
     "text": [
      "Extracting mnist\\train-images-idx3-ubyte.gz\n",
      "Extracting mnist\\train-labels-idx1-ubyte.gz\n",
      "Extracting mnist\\t10k-images-idx3-ubyte.gz\n",
      "Extracting mnist\\t10k-labels-idx1-ubyte.gz\n"
     ]
    }
   ],
   "source": [
    "data_dir = 'mnist'\n",
    "train_images_path = os.path.join(data_dir, 'train-images-idx3-ubyte.gz')\n",
    "train_labels_path = os.path.join(data_dir, 'train-labels-idx1-ubyte.gz')\n",
    "test_images_path = os.path.join(data_dir, 't10k-images-idx3-ubyte.gz')\n",
    "test_labels_path = os.path.join(data_dir, 't10k-labels-idx1-ubyte.gz')\n",
    "train_images = u.extract_images(train_images_path)\n",
    "train_labels = u.extract_labels(train_labels_path)\n",
    "test_images = u.extract_images(test_images_path)\n",
    "test_labels = u.extract_labels(test_labels_path)\n",
    "\n",
    "assert train_images.shape[0] == train_labels.shape[0]\n",
    "assert test_images.shape[0] == test_labels.shape[0]\n",
    "\n",
    "train_data_size = train_images.shape[0]\n",
    "test_data_size = test_images.shape[0]\n",
    "\n",
    "assert train_images.shape[3] == 1\n",
    "assert test_images.shape[3] == 1\n",
    "train_images = train_images.reshape(train_images.shape[0], train_images.shape[1] * train_images.shape[2])\n",
    "test_images = test_images.reshape(test_images.shape[0], test_images.shape[1] * test_images.shape[2])\n",
    "\n",
    "train_data_size = train_images.shape[0]\n",
    "test_data_size = test_images.shape[0]\n",
    "\n",
    "#NORMALIZE MATRICES\n",
    "train_images = train_images.astype(np.float32)\n",
    "train_images = np.multiply(train_images, 1.0 / 255.0)\n",
    "test_images = test_images.astype(np.float32)\n",
    "test_images = np.multiply(test_images, 1.0 / 255.0)\n",
    "\n",
    "#RANDOMIZE THE TRAIN DATA ORDER\n",
    "order = np.arange(train_data_size)\n",
    "np.random.shuffle(order)\n",
    "\n",
    "#PICK TRAIN & TEST DATA\n",
    "train_data = train_images[order]\n",
    "train_label = train_labels[order]\n",
    "\n",
    "test_data = test_images\n",
    "test_label = test_labels\n",
    "\n",
    "#RESHAPE DATA\n",
    "train_data = train_data.reshape(-1, 28, 28, 1)\n",
    "test_data = test_data.reshape(-1, 28, 28, 1)"
   ]
  },
  {
   "cell_type": "code",
   "execution_count": 7,
   "metadata": {},
   "outputs": [
    {
     "data": {
      "text/plain": [
       "((60000, 28, 28, 1), (10000, 28, 28, 1))"
      ]
     },
     "execution_count": 7,
     "metadata": {},
     "output_type": "execute_result"
    }
   ],
   "source": [
    "train_data.shape, test_data.shape"
   ]
  },
  {
   "cell_type": "code",
   "execution_count": null,
   "metadata": {},
   "outputs": [],
   "source": [
    "import importlib\n",
    "importlib.reload(u)"
   ]
  },
  {
   "cell_type": "markdown",
   "metadata": {},
   "source": [
    "Plot random image and its label"
   ]
  },
  {
   "cell_type": "code",
   "execution_count": 55,
   "metadata": {},
   "outputs": [
    {
     "name": "stdout",
     "output_type": "stream",
     "text": [
      "label: 9\n"
     ]
    },
    {
     "data": {
      "image/png": "[encoded data removed]",
      "text/plain": [
       "<Figure size 432x288 with 1 Axes>"
      ]
     },
     "metadata": {
      "needs_background": "light"
     },
     "output_type": "display_data"
    }
   ],
   "source": [
    "import matplotlib.pyplot as plt\n",
    "rand_int = random.randint(0, len(train_data))\n",
    "image = train_data[rand_int][:,:,0]\n",
    "label = train_label[rand_int]\n",
    "u.plot_image(image)\n",
    "\n",
    "print('label: {}'.format(label))"
   ]
  },
  {
   "cell_type": "markdown",
   "metadata": {},
   "source": [
    "## Apply convolution kernel to image"
   ]
  },
  {
   "cell_type": "code",
   "execution_count": 25,
   "metadata": {},
   "outputs": [],
   "source": [
    "#CODE FROM: https://github.com/SkalskiP/ILearnDeepLearning.py/blob/master/01_mysteries_of_neural_networks/05_mathematics_of_cnn/Applying%20different%20filters%20to%20the%20image.ipynb\n",
    "#ARTICLE LINK: https://towardsdatascience.com/gentle-dive-into-math-behind-convolutional-neural-networks-79a07dd44cf9\n",
    "def simple_conv2d(image, kernel):\n",
    "    return np.multiply(image, kernel).sum()\n",
    "\n",
    "def apply_filter(image, kernel, padding = 0, stride = 1):\n",
    "    # acquisition of input image and kernel dimensions\n",
    "    (image_height, image_width) = image.shape\n",
    "    (kernel_height, kernel_width) = kernel.shape\n",
    "    \n",
    "    # preparation of memory for the returned array\n",
    "    output = np.zeros((\n",
    "        calculate_output_dimension(image_height, kernel_height, padding, stride),\n",
    "        calculate_output_dimension(image_width, kernel_width, padding, stride)\n",
    "    ))\n",
    "    \n",
    "    (output_height, output_width) = output.shape\n",
    "    \n",
    "    # addition of padding\n",
    "    image_with_padding = np.pad(image, [(padding, padding), (padding, padding)], mode='constant', constant_values=0)\n",
    "    \n",
    "    for x in range(output_height):\n",
    "        for y in range(output_width):\n",
    "            output[x, y] = simple_conv2d(crop(image_with_padding, (x * stride, y * stride), kernel.shape), kernel)\n",
    "    \n",
    "    return output\n",
    "def crop(image, anchor, shape):\n",
    "    return image[anchor[0]:anchor[0] + shape[0], anchor[1]:anchor[1] + shape[1]]\n",
    "def calculate_output_dimension(image_dim, kernel_dim, padding = 0, stride = 1):\n",
    "    return math.floor((image_dim + 2 * padding - kernel_dim)/stride) + 1\n",
    "\n",
    "def post_actions(image):\n",
    "    image_norm =  (image - np.min(image))/(np.max(image) - np.min(image))\n",
    "    return (image_norm > 0.6).astype(int)"
   ]
  },
  {
   "cell_type": "markdown",
   "metadata": {},
   "source": [
    "Apply kernel and plot image after passing it through the convolution kernel"
   ]
  },
  {
   "cell_type": "code",
   "execution_count": 30,
   "metadata": {},
   "outputs": [
    {
     "name": "stdout",
     "output_type": "stream",
     "text": [
      "(10, 10)\n"
     ]
    },
    {
     "data": {
      "image/png": "[encoded data removed]",
      "text/plain": [
       "<Figure size 432x288 with 1 Axes>"
      ]
     },
     "metadata": {
      "needs_background": "light"
     },
     "output_type": "display_data"
    }
   ],
   "source": [
    "K1 = np.array(\n",
    "    [[1, 0, 1],\n",
    "    [0, 0, 0],\n",
    "    [-1, 1, -1]]\n",
    ")\n",
    "\n",
    "I1 = apply_filter(image, K1,padding=1, stride = 3)\n",
    "print(I1.shape)\n",
    "u.plot_image(post_actions(I1))"
   ]
  }
 ],
 "metadata": {
  "kernelspec": {
   "display_name": "env",
   "language": "python",
   "name": "env"
  },
  "language_info": {
   "codemirror_mode": {
    "name": "ipython",
    "version": 3
   },
   "file_extension": ".py",
   "mimetype": "text/x-python",
   "name": "python",
   "nbconvert_exporter": "python",
   "pygments_lexer": "ipython3",
   "version": "3.7.6"
  }
 },
 "nbformat": 4,
 "nbformat_minor": 4
}
